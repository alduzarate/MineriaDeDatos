{
  "cells": [
    {
      "cell_type": "markdown",
      "metadata": {
        "id": "vX5fRIbMF8NO"
      },
      "source": [
        "# Tópicos de Minería de datos - TP 4\n",
        "## Autora: Aldana Zarate\n",
        "\n",
        "Feedback:\n",
        "En el 1 y 2 los comentarios no van para lo que estamos mirando, cómo depende el funcionamiento del método de algún factor como la complejidad del weak learner.\n",
        "\n",
        "En 3 y 4, faltó hacer un bucle más, hay que hacer uno para elegir los parámetros y otro para medir el error en test. "
      ]
    },
    {
      "cell_type": "markdown",
      "metadata": {
        "id": "pWXnrCbMGDli"
      },
      "source": [
        "# Imports"
      ]
    },
    {
      "cell_type": "code",
      "execution_count": null,
      "metadata": {
        "id": "Yl2L6345GAJv"
      },
      "outputs": [],
      "source": [
        "install.packages(\"adabag\")\n",
        "library(\"adabag\")\n",
        "install.packages(\"randomForest\")\n",
        "library(\"randomForest\")\n",
        "library(\"e1071\")\n",
        "library(\"caret\")"
      ]
    },
    {
      "cell_type": "markdown",
      "metadata": {
        "id": "FXAcnGJqJ1qS"
      },
      "source": [
        "# Ejercicio 1\n"
      ]
    },
    {
      "cell_type": "code",
      "execution_count": 26,
      "metadata": {
        "colab": {
          "base_uri": "https://localhost:8080/"
        },
        "id": "tcEpqv_XJ3U0",
        "outputId": "6b326838-eb95-470c-b2fe-8afa5663617c"
      },
      "outputs": [
        {
          "name": "stdout",
          "output_type": "stream",
          "text": [
            "Loading objects:\n",
            "  esp_train\n",
            "  RRL\n",
            "  esp_test\n",
            "  diag_test\n",
            "  .Random.seed\n",
            "  diag_train\n"
          ]
        }
      ],
      "source": [
        "load(\"TP4.Rdata\", verbose=T)"
      ]
    },
    {
      "cell_type": "markdown",
      "metadata": {
        "id": "PrcfwW64MLpN"
      },
      "source": [
        "## Espirales con ruido"
      ]
    },
    {
      "cell_type": "code",
      "execution_count": null,
      "metadata": {
        "colab": {
          "base_uri": "https://localhost:8080/",
          "height": 497
        },
        "id": "dQzYnkhjMNz8",
        "outputId": "2317c3c6-77d9-45ab-837c-45791bf0ba39"
      },
      "outputs": [
        {
          "data": {
            "image/png": "[encoded data removed]"
          },
          "metadata": {},
          "output_type": "display_data"
        }
      ],
      "source": [
        "espirales.errores <- double(20)\n",
        "\n",
        "for(depth in 1:20){\n",
        "  espirales.adaboost <- boosting(class ~ ., data = esp_train, mfinal = 200, coef=\"Freund\",\n",
        "                                control = rpart.control(maxdepth = depth))\n",
        "  pred <- predict(espirales.adaboost, esp_test)\n",
        "  espirales.errores[depth] <- pred$error\n",
        "}\n",
        "\n",
        "plot(c(1:20), espirales.errores, type=\"l\", xlab=\"Máxima profundidad\", ylab=\"Error\", ylim=c(0,1))"
      ]
    },
    {
      "cell_type": "markdown",
      "metadata": {
        "id": "Kr87gK1eOIkj"
      },
      "source": [
        "Podemos observar un error muy alto a lo largo de todas las ejecuciones, sin importar la profundidad. Estos errores de alrededor del 40% parecen manifestar una sensibilidad alta al ruido."
      ]
    },
    {
      "cell_type": "markdown",
      "metadata": {
        "id": "kBafvmcSOKRA"
      },
      "source": [
        "## Diagonal"
      ]
    },
    {
      "cell_type": "code",
      "execution_count": null,
      "metadata": {
        "colab": {
          "base_uri": "https://localhost:8080/",
          "height": 497
        },
        "id": "7Fy7a1SJOozG",
        "outputId": "3c55d8f6-7721-402b-ae3b-c046496a725a"
      },
      "outputs": [
        {
          "data": {
            "image/png": "[encoded data removed]"
          },
          "metadata": {},
          "output_type": "display_data"
        }
      ],
      "source": [
        "diagonal.errores <- double(20)\n",
        "\n",
        "for(depth in 1:20){\n",
        "  diagonal.adaboost <- boosting(class ~ ., data = diag_train, mfinal = 200, coef=\"Freund\",\n",
        "                                control = rpart.control(maxdepth = depth))\n",
        "  pred <- predict(diagonal.adaboost, diag_test)\n",
        "  diagonal.errores[depth] <- pred$error\n",
        "}\n",
        "\n",
        "plot(c(1:20), diagonal.errores, type=\"l\", xlab=\"Máxima profundidad\", ylab=\"Error\", ylim=c(0,1))"
      ]
    },
    {
      "cell_type": "markdown",
      "metadata": {
        "id": "e3mTtfNRO5Q3"
      },
      "source": [
        "Para el caso del problema diagonal se obtienen mejores resultados, con errores alrededor del 10-15% para todas las profundidades. Esto puede deber a que las clases se encuentran mucho más separadas que en el dataset anterior; pero siguen existiendo superposiciones, dado lugar a errores mejores pero tampoco ideales."
      ]
    },
    {
      "cell_type": "markdown",
      "metadata": {
        "id": "xIrM266WO7J1"
      },
      "source": [
        "# Ejercicio 2"
      ]
    },
    {
      "cell_type": "code",
      "execution_count": null,
      "metadata": {
        "colab": {
          "base_uri": "https://localhost:8080/"
        },
        "id": "E8rukTMOQBl_",
        "outputId": "df7c157d-5bc2-46fe-d95d-649fbcd9da9d"
      },
      "outputs": [
        {
          "name": "stdout",
          "output_type": "stream",
          "text": [
            "  Amplitude AndersonDarling Autocor_length Beyond1Std   CAR_mean     CAR_sigma\n",
            "1   0.12125       0.6320207              1  0.2835821   26.96911 -2.053218e-08\n",
            "2   0.11900       0.6567491              1  0.2794118   27.34302  3.789182e-09\n",
            "3   0.28200       1.0000000              1  0.2318841 3817.29126 -4.223939e+00\n",
            "4   0.04375       0.9999802              1  0.1818182   23.08996 -2.235318e-02\n",
            "5   0.33000       0.4083999              1  0.2954545   27.73315  3.789182e-09\n",
            "6   0.23450       0.4528910              1  0.3288591   27.32995  4.427833e-09\n",
            "      CAR_tau Con       Eta_e FluxPercentileRatioMid20 FluxPercentileRatioMid35\n",
            "1 0.594827064   0   1363382.6               0.21739130                0.3043478\n",
            "2 0.594920127   0   1134045.3               0.10576923                0.2692308\n",
            "3 0.003960514   0   2425723.6               0.05839416                0.1113139\n",
            "4 0.595819184   0    677993.1               0.21311475                0.2950820\n",
            "5 0.594920127   0 824000203.6               0.16428571                0.2892857\n",
            "6 0.595191814   0 195875889.9               0.18137255                0.2720588\n",
            "  FluxPercentileRatioMid50 FluxPercentileRatioMid65 FluxPercentileRatioMid80\n",
            "1                0.4565217                0.5478261                0.7173913\n",
            "2                0.3942308                0.5144231                0.8509615\n",
            "3                0.2791971                0.7846715                0.8594891\n",
            "4                0.4098361                0.5245902                0.7213115\n",
            "5                0.3964286                0.5357143                0.6964286\n",
            "6                0.3995098                0.5490196                0.7598039\n",
            "  Freq1_harmonics_amplitude_0 Freq1_harmonics_amplitude_1\n",
            "1                  0.04494308                 0.008522707\n",
            "2                  0.04203930                 0.006673006\n",
            "3                  0.14030191                 0.036086835\n",
            "4                  0.01548250                 0.003865430\n",
            "5                  0.15179539                 0.071237503\n",
            "6                  0.06026645                 0.013432266\n",
            "  Freq1_harmonics_amplitude_2 Freq1_harmonics_amplitude_3\n",
            "1                  0.02191423                 0.012189121\n",
            "2                  0.01085541                 0.019742361\n",
            "3                  0.06819239                 0.009940419\n",
            "4                  0.00499199                 0.001872021\n",
            "5                  0.02794827                 0.002333890\n",
            "6                  0.03731045                 0.013230582\n",
            "  Freq1_harmonics_rel_phase_1 Freq1_harmonics_rel_phase_2\n",
            "1                   2.0916389                  1.89320551\n",
            "2                  -1.9343330                 -1.94908452\n",
            "3                   1.2110105                  0.07998952\n",
            "4                   1.2736964                  0.14638724\n",
            "5                  -1.1637377                 -1.27300954\n",
            "6                  -0.1366135                 -0.65154253\n",
            "  Freq1_harmonics_rel_phase_3 Freq2_harmonics_amplitude_0\n",
            "1                  1.22622400                  0.03844162\n",
            "2                 -2.24751293                  0.04064328\n",
            "3                  0.09512937                  0.12230595\n",
            "4                  1.93253187                  0.01309765\n",
            "5                 -1.55211713                  0.11484981\n",
            "6                  0.98963304                  0.05503475\n",
            "  Freq2_harmonics_amplitude_1 Freq2_harmonics_amplitude_2\n",
            "1                 0.008802811                 0.023339480\n",
            "2                 0.012205617                 0.006934696\n",
            "3                 0.028684858                 0.051804437\n",
            "4                 0.004523315                 0.001129851\n",
            "5                 0.019513859                 0.035067242\n",
            "6                 0.012961126                 0.011872505\n",
            "  Freq2_harmonics_amplitude_3 Freq2_harmonics_rel_phase_1\n",
            "1                 0.004632951                  -1.4781103\n",
            "2                 0.012551515                  -1.3429934\n",
            "3                 0.024079862                  -1.4018365\n",
            "4                 0.008107956                  -1.2884489\n",
            "5                 0.006858241                   0.7329020\n",
            "6                 0.026923173                  -0.3599438\n",
            "  Freq2_harmonics_rel_phase_2 Freq2_harmonics_rel_phase_3\n",
            "1                -2.419043994                   0.2028690\n",
            "2                -0.077367015                   1.1972441\n",
            "3                 0.154547837                  -2.0839946\n",
            "4                -1.173503974                  -2.1125344\n",
            "5                -0.942403020                  -0.9269756\n",
            "6                 0.003985593                  -2.1378940\n",
            "  Freq3_harmonics_amplitude_0 Freq3_harmonics_amplitude_1\n",
            "1                  0.03091761                 0.007448735\n",
            "2                  0.03243978                 0.014995816\n",
            "3                  0.09489336                 0.051612556\n",
            "4                  0.01103463                 0.004218523\n",
            "5                  0.07817844                 0.024787213\n",
            "6                  0.04729901                 0.003299533\n",
            "  Freq3_harmonics_amplitude_2 Freq3_harmonics_amplitude_3\n",
            "1                 0.004887197                 0.009480388\n",
            "2                 0.021872227                 0.006213065\n",
            "3                 0.011857059                 0.008940849\n",
            "4                 0.003774746                 0.003729398\n",
            "5                 0.038073714                 0.024972769\n",
            "6                 0.006387517                 0.026727295\n",
            "  Freq3_harmonics_rel_phase_1 Freq3_harmonics_rel_phase_2\n",
            "1                   1.8663817                  1.93952210\n",
            "2                   1.4742381                  0.25006653\n",
            "3                  -0.9165134                 -2.48848300\n",
            "4                   0.3216249                  0.99937109\n",
            "5                   0.7961979                 -0.03697862\n",
            "6                   1.0474485                  0.30632167\n",
            "  Freq3_harmonics_rel_phase_3  Gskew   LinearTrend    MaxSlope     Mean\n",
            "1                   2.0020524  0.025  2.672742e-05   20.962629 16.04196\n",
            "2                   2.0423928  0.003  1.369713e-05   19.307678 16.26691\n",
            "3                  -0.5655896  0.431  2.786773e-05   85.401080 15.11843\n",
            "4                  -1.5646056 -0.050 -7.484842e-07    4.604602 13.75744\n",
            "5                   1.8481933  0.062 -4.238089e-05 1244.758935 16.49901\n",
            "6                   0.9604499  0.013  4.951782e-05  576.239705 16.26656\n",
            "  Meanvariance MedianAbsDev MedianBRP PairSlopeTrend PercentAmplitude\n",
            "1  0.004087488       0.0490 0.2686567    -0.10000000      0.009912718\n",
            "2  0.004072243       0.0400 0.4705882    -0.23333333      0.015986227\n",
            "3  0.012629241       0.0350 0.6811594    -0.03333333      0.038141516\n",
            "4  0.001623436       0.0115 0.5757576     0.03333333      0.007449940\n",
            "5  0.010087610       0.1145 0.4469697    -0.16666667      0.038868829\n",
            "6  0.007414383       0.0810 0.4026846    -0.10000000      0.021387745\n",
            "  PercentDifferenceFluxPercentile  PeriodLS Period_fit    Psi_CS  Psi_eta\n",
            "1                     0.014339152 0.9812758          1 0.1393785 1.858374\n",
            "2                     0.012788982 3.9105731          1 0.1941387 1.463793\n",
            "3                     0.036477401 4.8534801          1 0.2162978 1.434359\n",
            "4                     0.004433623 1.4574616          1 0.1178970 1.889343\n",
            "5                     0.033983676 0.9969972          1 0.1258867 1.514089\n",
            "6                     0.025075287 0.4597261          1 0.1388460 1.784113\n",
            "      Q31       Rcs        Skew SmallKurtosis        Std  StetsonK       c89_c3\n",
            "1 0.09050 0.1807137  0.27816839   -0.33093502 0.06557130 0.8341271 3.406823e-01\n",
            "2 0.08000 0.1209441  0.65605798    2.34886888 0.06624281 0.7824905 2.718550e-01\n",
            "3 0.10900 0.1114111  1.22205927   -0.08850495 0.19093435 0.7557426 2.692538e-01\n",
            "4 0.02425 0.1185445 -1.68583459    6.49423421 0.02233433 0.7726696 3.060121e-01\n",
            "5 0.22400 0.2115506  0.34936474    0.75419097 0.16643556 0.7995465 2.482404e+04\n",
            "6 0.16600 0.1021745 -0.08685708   -0.06340617 0.12060654 0.8091842 3.916108e-01\n",
            "   c89_hk_color c89_jh_color c89_jk_color      c89_m2       c89_m4 cnt\n",
            "1 -1.643946e-02 3.166114e-01    0.3001720    15.64546     15.60932  67\n",
            "2  5.068434e-02 3.459782e-01    0.3966625    15.82497     15.79620  68\n",
            "3  7.143018e-02 3.736358e-01    0.4450660    14.46463     14.43619  69\n",
            "4  1.046472e-01 4.513960e-01    0.5560432    13.24279     13.21403  66\n",
            "5 -1.001545e+04 1.001587e+04    0.4183871 -9999.73884 -12683.95082 132\n",
            "6  8.647579e-02 5.188277e-01    0.6053035    15.25341     15.21148 149\n",
            "        n09_c3  n09_hk_color n09_jh_color n09_jk_color      n09_m2      n09_m4\n",
            "1 3.322270e-01 -1.150879e-02 3.124268e-01    0.3009180    15.73283    15.74282\n",
            "2 2.538926e-01  5.294659e-02 3.438380e-01    0.3967845    15.92177    15.93016\n",
            "3 2.392369e-01  7.562047e-02 3.703775e-01    0.4459980    14.57444    14.58119\n",
            "4 2.702403e-01  1.058040e-01 4.507252e-01    0.5565292    13.34951    13.35817\n",
            "5 2.718148e+04 -1.001544e+04 1.001586e+04    0.4185631 -9999.60320 -9158.22601\n",
            "6 3.472547e-01  9.518029e-02 5.111292e-01    0.6063095    15.42667    15.43705\n",
            "         ppmb Tipo\n",
            "1 0.209575117    0\n",
            "2 0.006674408    0\n",
            "3 0.166880861    0\n",
            "4 0.528596205    0\n",
            "5 0.104860550    0\n",
            "6 2.093833499    0\n"
          ]
        }
      ],
      "source": [
        "# visualizamos el dataset\n",
        "nvars <- dim(RRL)[2]\n",
        "head(RRL)"
      ]
    },
    {
      "cell_type": "code",
      "execution_count": null,
      "metadata": {
        "colab": {
          "base_uri": "https://localhost:8080/",
          "height": 497
        },
        "id": "V6pGlrb1Qn1p",
        "outputId": "6d47d380-a285-448e-e10c-12d005e4c61e"
      },
      "outputs": [
        {
          "data": {
            "image/png": "[encoded data removed]"
          },
          "metadata": {},
          "output_type": "display_data"
        }
      ],
      "source": [
        "mtrys <- c(69, 34, 17, 8, 4, 2, 1)\n",
        "cant.mtrys <- length(mtrys)\n",
        "\n",
        "oob.estimations <- double(cant.mtrys)\n",
        "for(mtry in 1:cant.mtrys){\n",
        "  errores.mtry <- double(5)\n",
        "  for(run in 1:5){\n",
        "    rf.model <- randomForest(RRL[,-70], RRL[,70], mtry=mtrys[mtry], ntree=1000)\n",
        "    oob.est <- rf.model$err.rate[1000]\n",
        "    errores.mtry[run] <- oob.est\n",
        "  }\n",
        "  oob.estimations[mtry] <- mean(errores.mtry)\n",
        "}\n",
        "\n",
        "plot(mtrys, oob.estimations, type=\"l\", xlab=\"mtry\", ylab=\"OOB estimation\")"
      ]
    },
    {
      "cell_type": "markdown",
      "metadata": {
        "id": "I-lbCTOjdqqQ"
      },
      "source": [
        "En la gráfica se puede observar que independientemente del número de variables que se tomen, se obtienen muy buenos resultados (sobretodo que es la estimación OOB). Hay solo un 1% de diferencia cuando el error comienza a decrecer a partir de las 8 variables aproximadamente."
      ]
    },
    {
      "cell_type": "markdown",
      "metadata": {
        "id": "7J2oLByfduFH"
      },
      "source": [
        "# Ejercicio 3"
      ]
    },
    {
      "cell_type": "code",
      "execution_count": null,
      "metadata": {
        "id": "xGG-f9eGdv0o"
      },
      "outputs": [],
      "source": [
        "load(\"lampone.Rdata\")\n",
        "lampone.x <- lampone[, -c(1,143,144)] # saco las clases y la 144 porque me da error de que no es numerico sino\n",
        "lampone.nvars = dim(lampone.x)[2]\n",
        "# el valor optimo podría andar alrededor de sqrt(lampone.nvars), es decir, 12\n",
        "mtrys <- 0:floor(log(lampone.nvars, 2))\n",
        "mtrys <- floor(lampone.nvars / (2 ^ mtrys))"
      ]
    },
    {
      "cell_type": "markdown",
      "metadata": {
        "id": "uPpkCdjPfD4r"
      },
      "source": [
        "## Random forest"
      ]
    },
    {
      "cell_type": "code",
      "execution_count": null,
      "metadata": {
        "colab": {
          "base_uri": "https://localhost:8080/",
          "height": 514
        },
        "id": "IyKLWNuhfGpX",
        "outputId": "022ac931-8372-46ba-e697-9c8bbcd3028f"
      },
      "outputs": [
        {
          "name": "stdout",
          "output_type": "stream",
          "text": [
            "mtry óptima:  17 Error de la mtry:  0.07755102"
          ]
        },
        {
          "data": {
            "image/png": "[encoded data removed]"
          },
          "metadata": {},
          "output_type": "display_data"
        }
      ],
      "source": [
        "mtrys <- 0:floor(log(lampone.nvars, 2))\n",
        "mtrys <- floor(lampone.nvars / (2 ^ mtrys))\n",
        "cant.mtrys <- length(mtrys)\n",
        "\n",
        "oob.estimations <- double(cant.mtrys)\n",
        "for(mtry in 1:cant.mtrys){\n",
        "  errores.mtry <- double(5)\n",
        "  for(run in 1:5){\n",
        "    rf.model <- randomForest(lampone.x, lampone[,143], mtry=mtrys[mtry], ntree=1000)\n",
        "    oob.est <- rf.model$err.rate[1000]\n",
        "    errores.mtry[run] <- oob.est\n",
        "  }\n",
        "  oob.estimations[mtry] <- mean(errores.mtry)\n",
        "}\n",
        "\n",
        "cat(\"mtry óptima: \", mtrys[which.min(oob.estimations)], \"Error de la mtry: \", oob.estimations[which.min(oob.estimations)])\n",
        "plot(mtrys, oob.estimations, type=\"l\", xlab=\"mtry\", ylab=\"OOB estimation\")\n"
      ]
    },
    {
      "cell_type": "markdown",
      "metadata": {
        "id": "kdfBcVTzh_IN"
      },
      "source": [
        "## Boosting"
      ]
    },
    {
      "cell_type": "markdown",
      "metadata": {
        "id": "aZQTe1hqiCAr"
      },
      "source": [
        "Como tenemos muy pocas muestras vamos a usar k-fold cross validation con 5 folds, 4 para train y 1 para test (proporción 80/20)"
      ]
    },
    {
      "cell_type": "code",
      "execution_count": null,
      "metadata": {
        "colab": {
          "base_uri": "https://localhost:8080/"
        },
        "id": "ID_oLEup0IjU",
        "outputId": "e5b2d1ed-095e-426d-8cf2-0e25c36497d9"
      },
      "outputs": [
        {
          "name": "stderr",
          "output_type": "stream",
          "text": [
            "WARNING:rpy2.rinterface_lib.callbacks:R[write to console]: Error in cbind(yval2, yprob, nodeprob) : \n",
            "  number of rows of matrices must match (see arg 2)\n",
            "\n"
          ]
        },
        {
          "name": "stdout",
          "output_type": "stream",
          "text": [
            "\n",
            "Error in cbind(yval2, yprob, nodeprob) : \n",
            "  number of rows of matrices must match (see arg 2)\n"
          ]
        }
      ],
      "source": [
        "# Esta versión que optimiza la profundidad máxima queda comentada porque al ser\n",
        "# muy desbalanceada la relación entre cantidad de variables y cantidad de muestras,\n",
        "# la ejecución se corta en el minuto 7 con el error:\n",
        "# Error in cbind(yval2, yprob, nodeprob) : number of rows of matrices must match (see arg 2)\n",
        "# fuentes: https://kleinfelter.com/learning-r-painful-r-learnings\n",
        "\n",
        "# lampone.cv <- lampone[,-c(1,144)] # sacamos las columnas que no sirven\n",
        "# # KFold Cross Validation (autorobado de IIA)\n",
        "# totalKFolds = 5\n",
        "# kFoldsTrain = 1:5\n",
        "# indexData <- createFolds(lampone.cv[, 142], k = totalKFolds)  # ahora la clase es la 142\n",
        "\n",
        "# lampone.errores.depth <- double(20)\n",
        "\n",
        "# for(depth in 1:20){\n",
        "#   lampone.errores <- c()\n",
        "#   for (kfold in kFoldsTrain) {\n",
        "#     # Partimos los conjuntos en entrenamiento y test\n",
        "#     lamponeTest <- lampone.cv[indexData[[kfold]], ]\n",
        "#     lamponeTrain <- lampone.cv[-indexData[[kfold]], ]\n",
        "\n",
        "#     lampone.adaboost <- boosting(N_tipo ~ ., data = lamponeTrain, mfinal = 200, coef=\"Freund\",\n",
        "#                                 control = rpart.control(maxdepth = depth))\n",
        "#     pred <- predict(lampone.adaboost, lamponeTest)\n",
        "#     lampone.errores <- c(lampone.errores, pred$error)\n",
        "#   }\n",
        "#   lampone.errores.depth[depth] <- mean(lampone.errores)\n",
        "# }\n",
        "\n",
        "# cat(\"Profundidad óptima: \", which.min(lampone.errores.depth), \"Error de la prof: \", lampone.errores.depth[which.min(lampone.errores.depth)])\n",
        "# plot(c(1:20), lampone.errores.depth, type=\"l\", xlab=\"Máxima profundidad\", ylab=\"Error\", ylim=c(0,1))"
      ]
    },
    {
      "cell_type": "markdown",
      "metadata": {
        "id": "ncqETlZsQaVy"
      },
      "source": [
        "Procedemos a ejecutar el método pero sin iterar sobre las posibles profundidades:"
      ]
    },
    {
      "cell_type": "code",
      "execution_count": 16,
      "metadata": {
        "colab": {
          "base_uri": "https://localhost:8080/"
        },
        "id": "OpL5AtagQgby",
        "outputId": "2bccad32-d55d-4897-d587-f8c5156959eb"
      },
      "outputs": [
        {
          "name": "stdout",
          "output_type": "stream",
          "text": [
            "Error en boosting:  0.08"
          ]
        }
      ],
      "source": [
        "lampone.cv <- lampone[,-c(1,144)] # sacamos las columnas que no sirven\n",
        "# KFold Cross Validation (autorobado de IIA)\n",
        "totalKFolds = 5\n",
        "kFoldsTrain = 1:5\n",
        "indexData <- createFolds(lampone.cv[, 142], k = totalKFolds)  # ahora la clase es la 142\n",
        "\n",
        "lampone.errores <- c()\n",
        "for (kfold in kFoldsTrain) {\n",
        "  # Partimos los conjuntos en entrenamiento y test\n",
        "  lamponeTest <- lampone.cv[indexData[[kfold]], ]\n",
        "  lamponeTrain <- lampone.cv[-indexData[[kfold]], ]\n",
        "\n",
        "  lampone.adaboost <- boosting(N_tipo ~ ., data = lamponeTrain, mfinal = 200, coef=\"Freund\",\n",
        "                              control = rpart.control(maxdepth = 17))\n",
        "  pred <- predict(lampone.adaboost, lamponeTest)\n",
        "  lampone.errores <- c(lampone.errores, pred$error)\n",
        "}\n",
        "lampone.error <- mean(lampone.errores)\n",
        "\n",
        "cat(\"Error en boosting: \", lampone.error)"
      ]
    },
    {
      "cell_type": "markdown",
      "metadata": {
        "id": "imnRhrM5YPsD"
      },
      "source": [
        "## SVM kernel RBF"
      ]
    },
    {
      "cell_type": "code",
      "execution_count": 20,
      "metadata": {
        "id": "uzN6c-RLYTqP"
      },
      "outputs": [],
      "source": [
        "# hay que optimizar el gamma y el costo\n",
        "\n",
        "lampone.cv <- lampone[,-c(1,144)] # sacamos las columnas que no sirven\n",
        "# KFold Cross Validation (autorobado de IIA)\n",
        "totalKFolds = 5\n",
        "kFoldsTrain = 1:5\n",
        "indexData <- createFolds(lampone.cv[, 142], k = totalKFolds)  # ahora la clase es la 142\n",
        "\n",
        "lampone.errores.overall <- matrix(, nrow = 0, ncol = 3)\n",
        "colnames(lampone.errores.overall) <- c(\"c\",\"g\",\"Error\")\n",
        "\n",
        "for(c in c(10^(-5),10^(-4),10^(-3),10^(-2),10^(-1),1,10,10^2,10^3,10^4,10^5)){\n",
        "  for(g in c(10^(-5),10^(-4),10^(-3),10^(-2),10^(-1),1,10,10^2,10^3)){\n",
        "    lampone.errores <- c()\n",
        "    for (kfold in kFoldsTrain) {\n",
        "      # Partimos los conjuntos en entrenamiento y test\n",
        "      lamponeTest <- lampone.cv[indexData[[kfold]], ]\n",
        "      lamponeTrain <- lampone.cv[-indexData[[kfold]], ]\n",
        "\n",
        "      lampone.svm.rbf <- svm(N_tipo~., lamponeTrain, kernel=\"radial\", gamma=g, cost=c)\n",
        "      pred<-predict(lampone.svm.rbf, newdata = lamponeTest)\n",
        "      error<-1-sum(pred==lamponeTest[,\"N_tipo\"])/dim(lamponeTest)[1]\n",
        "      lampone.errores <- c(lampone.errores, error)\n",
        "    }\n",
        "    lampone.errores.overall <- rbind(lampone.errores.overall, c(c, g, mean(lampone.errores)))\n",
        "  }\n",
        "}"
      ]
    },
    {
      "cell_type": "code",
      "execution_count": 21,
      "metadata": {
        "colab": {
          "base_uri": "https://localhost:8080/"
        },
        "id": "XT_WnlBhn83E",
        "outputId": "5e2ca0e1-3d94-4ca8-8829-d9c780b4285a"
      },
      "outputs": [
        {
          "name": "stdout",
          "output_type": "stream",
          "text": [
            "Parámetros óptimos: \n",
            " c: 100  g:  1e-05  Error:  0.1812121"
          ]
        }
      ],
      "source": [
        "df <- as.data.frame(lampone.errores.overall)\n",
        "opt <- df[which.min(df$Error),]\n",
        "cat(\"Parámetros óptimos: \\n c:\", as.numeric(opt[1]), \" g: \", as.numeric(opt[2]), \" Error: \", as.numeric(opt[3]))"
      ]
    },
    {
      "cell_type": "markdown",
      "metadata": {
        "id": "i72_VmGlahW0"
      },
      "source": [
        "## SVM Polinomial"
      ]
    },
    {
      "cell_type": "code",
      "execution_count": 22,
      "metadata": {
        "id": "tlgJiyCmakg1"
      },
      "outputs": [],
      "source": [
        "# hay que optimizar el grado del polinomio y el costo\n",
        "\n",
        "lampone.cv <- lampone[,-c(1,144)] # sacamos las columnas que no sirven\n",
        "# KFold Cross Validation (autorobado de IIA)\n",
        "totalKFolds = 5\n",
        "kFoldsTrain = 1:5\n",
        "indexData <- createFolds(lampone.cv[, 142], k = totalKFolds)  # ahora la clase es la 142\n",
        "\n",
        "lampone.errores.overall <- matrix(, nrow = 0, ncol = 3)\n",
        "colnames(lampone.errores.overall) <- c(\"c\",\"d\",\"Error\")\n",
        "\n",
        "for(c in c(10^(-5),10^(-4),10^(-3),10^(-2),10^(-1),1,10,10^2,10^3,10^4,10^5)){\n",
        "  for(d in 1:5){\n",
        "    lampone.errores <- c()\n",
        "    for (kfold in kFoldsTrain) {\n",
        "      # Partimos los conjuntos en entrenamiento y test\n",
        "      lamponeTest <- lampone.cv[indexData[[kfold]], ]\n",
        "      lamponeTrain <- lampone.cv[-indexData[[kfold]], ]\n",
        "\n",
        "      lampone.svm.pol <- svm(N_tipo~., lamponeTrain, kernel=\"polynomial\", degree=d, cost=c)\n",
        "      pred<-predict(lampone.svm.pol, newdata = lamponeTest)\n",
        "      error<-1-sum(pred==lamponeTest[,\"N_tipo\"])/dim(lamponeTest)[1]\n",
        "      lampone.errores <- c(lampone.errores, error)\n",
        "    }\n",
        "    lampone.errores.overall <- rbind(lampone.errores.overall, c(c, d, mean(lampone.errores)))\n",
        "  }\n",
        "}"
      ]
    },
    {
      "cell_type": "code",
      "execution_count": 23,
      "metadata": {
        "colab": {
          "base_uri": "https://localhost:8080/"
        },
        "id": "akWef5aGoquW",
        "outputId": "16012c57-75ee-45b4-8168-2bec211ab99b"
      },
      "outputs": [
        {
          "name": "stdout",
          "output_type": "stream",
          "text": [
            "Parámetros óptimos: \n",
            " c: 100  d:  1  Error:  0.06"
          ]
        }
      ],
      "source": [
        "df <- as.data.frame(lampone.errores.overall)\n",
        "opt <- df[which.min(df$Error),]\n",
        "cat(\"Parámetros óptimos: \\n c:\", as.numeric(opt[1]), \" d: \", as.numeric(opt[2]), \" Error: \", as.numeric(opt[3]))"
      ]
    },
    {
      "cell_type": "markdown",
      "metadata": {
        "id": "1nIzZHoWqBLB"
      },
      "source": [
        "## Comparación de resultados"
      ]
    },
    {
      "cell_type": "code",
      "execution_count": 35,
      "metadata": {
        "colab": {
          "base_uri": "https://localhost:8080/",
          "height": 497
        },
        "id": "VJlaGFopqDqy",
        "outputId": "8e57c163-734e-4508-b0fc-860de9e5272c"
      },
      "outputs": [
        {
          "data": {
            "image/png": "[encoded data removed]"
          },
          "metadata": {},
          "output_type": "display_data"
        }
      ],
      "source": [
        "results <- data.frame(\"Modelo\"=c(\"SVM Polinomial\", \"Random forest\", \"Boosting\", \"SVM Radial\"),\n",
        "                      \"Error\"=c(0.06, 0.07755102, 0.08, 0.1812121))\n",
        "\n",
        "barplot(height=results$Error, names.arg=results$Modelo, xlab=\"Modelo\", ylab=\"Error\", col = \"#739072\")"
      ]
    },
    {
      "cell_type": "markdown",
      "metadata": {
        "id": "z3NzP4K2rZfU"
      },
      "source": [
        "Conclusiones:\n",
        "- El método con mejor performance fue el SVM polinomial con un error muy aceptable del 5%\n",
        "- Le siguen RF y Boosting ambos con errores muy similares alrededor del 8%\n",
        "- Por último quedó SVM Radial, con un error del 18%. No es muy bueno.\n",
        "- El método de RF eligió 17 como mtry óptima, dandole validez a la regla de la raíz cuadrada (que era 12, está muy cerca)"
      ]
    },
    {
      "cell_type": "markdown",
      "metadata": {
        "id": "JqTjFlAmrbS1"
      },
      "source": [
        "# Ejercicio 4"
      ]
    },
    {
      "cell_type": "code",
      "execution_count": 28,
      "metadata": {
        "colab": {
          "base_uri": "https://localhost:8080/"
        },
        "id": "w1PikQ1lr6_Q",
        "outputId": "949845a6-464a-45a7-957c-785bd73fefa1"
      },
      "outputs": [
        {
          "name": "stdout",
          "output_type": "stream",
          "text": [
            "[1] 7060\n"
          ]
        }
      ],
      "source": [
        "%%R\n",
        "nrow(RRL)"
      ]
    },
    {
      "cell_type": "markdown",
      "metadata": {
        "id": "iOyUhPFhslzz"
      },
      "source": [
        "En este caso tenemos una muestra más amplia así que no es necesario hacer cross validation."
      ]
    },
    {
      "cell_type": "code",
      "execution_count": 30,
      "metadata": {
        "id": "2ZsP0uC9s-5r"
      },
      "outputs": [],
      "source": [
        "%%R\n",
        "RRL.x <- RRL[, -70]\n",
        "RRL.nvars = dim(RRL.x)[2]\n",
        "# el valor optimo podría andar alrededor de sqrt(RRL.nvars), es decir, 8-9\n",
        "mtrys <- 0:floor(log(RRL.nvars, 2))\n",
        "mtrys <- floor(RRL.nvars / (2 ^ mtrys))"
      ]
    },
    {
      "cell_type": "markdown",
      "metadata": {
        "id": "S-uvz2BNsrM0"
      },
      "source": [
        "## Random forest"
      ]
    },
    {
      "cell_type": "code",
      "execution_count": 31,
      "metadata": {
        "colab": {
          "base_uri": "https://localhost:8080/",
          "height": 514
        },
        "id": "P_4qIYiSstMr",
        "outputId": "1ed0e4d6-ccf3-4d7f-9a73-84f0c81e06f5"
      },
      "outputs": [
        {
          "name": "stdout",
          "output_type": "stream",
          "text": [
            "mtry óptima:  17 Error de la mtry:  0.03886686"
          ]
        },
        {
          "data": {
            "image/png": "[encoded data removed]"
          },
          "metadata": {},
          "output_type": "display_data"
        }
      ],
      "source": [
        "%%R\n",
        "mtrys <- 0:floor(log(RRL.nvars, 2))\n",
        "mtrys <- floor(RRL.nvars / (2 ^ mtrys))\n",
        "cant.mtrys <- length(mtrys)\n",
        "\n",
        "oob.estimations <- double(cant.mtrys)\n",
        "for(mtry in 1:cant.mtrys){\n",
        "  errores.mtry <- double(5)\n",
        "  for(run in 1:5){\n",
        "    rf.model <- randomForest(RRL.x, RRL[,70], mtry=mtrys[mtry], ntree=1000)\n",
        "    oob.est <- rf.model$err.rate[1000]\n",
        "    errores.mtry[run] <- oob.est\n",
        "  }\n",
        "  oob.estimations[mtry] <- mean(errores.mtry)\n",
        "}\n",
        "\n",
        "cat(\"mtry óptima: \", mtrys[which.min(oob.estimations)], \"Error de la mtry: \", oob.estimations[which.min(oob.estimations)])\n",
        "plot(mtrys, oob.estimations, type=\"l\", xlab=\"mtry\", ylab=\"OOB estimation\")"
      ]
    },
    {
      "cell_type": "markdown",
      "metadata": {
        "id": "tEhH0KcOt4Fc"
      },
      "source": [
        "## Boosting\n"
      ]
    },
    {
      "cell_type": "code",
      "execution_count": 32,
      "metadata": {
        "id": "C2lGoNBfuXKE"
      },
      "outputs": [],
      "source": [
        "%%R\n",
        "# hago proporcion 80/20 entre train y test\n",
        "smp.size <- floor(0.8 * nrow(RRL))\n",
        "train_r <- sample(seq_len(nrow(RRL)), size = smp.size)\n",
        "\n",
        "rrl.train <- RRL[train_r, ]\n",
        "rrl.test <- RRL[-train_r, ]"
      ]
    },
    {
      "cell_type": "code",
      "execution_count": 33,
      "metadata": {
        "id": "J2-yVzJ0uYGv"
      },
      "outputs": [],
      "source": [
        "%%R\n",
        "rrl.errores <- double(20)\n",
        "\n",
        "for(depth in 1:20){\n",
        "  rrl.adaboost <- boosting(Tipo ~ ., data = rrl.train, mfinal = 200, coef=\"Freund\",\n",
        "                                control = rpart.control(maxdepth = depth))\n",
        "  pred <- predict(rrl.adaboost, rrl.test)\n",
        "  rrl.errores[depth] <- pred$error\n",
        "}\n",
        "\n"
      ]
    },
    {
      "cell_type": "code",
      "execution_count": 34,
      "metadata": {
        "colab": {
          "base_uri": "https://localhost:8080/",
          "height": 514
        },
        "id": "frZ98RbrvaR6",
        "outputId": "1fd168e1-d06a-411a-e757-1f5ee626054a"
      },
      "outputs": [
        {
          "name": "stdout",
          "output_type": "stream",
          "text": [
            "Profundidad máxima:  9 Error:  0.03328612"
          ]
        },
        {
          "data": {
            "image/png": "[encoded data removed]"
          },
          "metadata": {},
          "output_type": "display_data"
        }
      ],
      "source": [
        "%%R\n",
        "cat(\"Profundidad máxima: \", which.min(rrl.errores), \"Error: \", min(rrl.errores))\n",
        "plot(c(1:20), rrl.errores, type=\"l\", xlab=\"Máxima profundidad\", ylab=\"Error\", ylim=c(0,1))"
      ]
    },
    {
      "cell_type": "markdown",
      "metadata": {
        "id": "Bw5AKrXwvw0q"
      },
      "source": [
        "## SVM Radial"
      ]
    },
    {
      "cell_type": "code",
      "execution_count": 36,
      "metadata": {
        "id": "9rY3aw81vyyw"
      },
      "outputs": [],
      "source": [
        "%%R\n",
        "# hago proporcion 80/20 entre train y test\n",
        "smp.size <- floor(0.8 * nrow(RRL))\n",
        "train_r <- sample(seq_len(nrow(RRL)), size = smp.size)\n",
        "\n",
        "rrl.train <- RRL[train_r, ]\n",
        "rrl.test <- RRL[-train_r, ]"
      ]
    },
    {
      "cell_type": "code",
      "execution_count": 37,
      "metadata": {
        "id": "bes4Q3Y9v81V"
      },
      "outputs": [],
      "source": [
        "%%R\n",
        "rrl.errores.overall <- matrix(, nrow = 0, ncol = 3)\n",
        "colnames(rrl.errores.overall) <- c(\"c\",\"g\",\"Error\")\n",
        "\n",
        "for(c in c(10^(-5),10^(-4),10^(-3),10^(-2),10^(-1),1,10,10^2,10^3,10^4,10^5)){\n",
        "  for(g in c(10^(-5),10^(-4),10^(-3),10^(-2),10^(-1),1,10,10^2,10^3)){\n",
        "    rrl.svm.rbf <- svm(Tipo~., rrl.train, kernel=\"radial\", gamma=g, cost=c)\n",
        "    pred<-predict(rrl.svm.rbf, newdata = rrl.test)\n",
        "    error<-1-sum(pred==rrl.test[,\"Tipo\"])/dim(rrl.test)[1]\n",
        "    rrl.errores.overall <- rbind(rrl.errores.overall, c(c, g, error))\n",
        "  }\n",
        "}"
      ]
    },
    {
      "cell_type": "code",
      "execution_count": 38,
      "metadata": {
        "colab": {
          "base_uri": "https://localhost:8080/"
        },
        "id": "okiapvQGwEKB",
        "outputId": "bbdc8ad1-0fbe-42ae-f366-88b179a31eb2"
      },
      "outputs": [
        {
          "name": "stdout",
          "output_type": "stream",
          "text": [
            "Parámetros óptimos: \n",
            " c: 1e+05  g:  1e-04  Error:  0.0694051"
          ]
        }
      ],
      "source": [
        "%%R\n",
        "df <- as.data.frame(rrl.errores.overall)\n",
        "opt <- df[which.min(df$Error),]\n",
        "cat(\"Parámetros óptimos: \\n c:\", as.numeric(opt[1]), \" g: \", as.numeric(opt[2]), \" Error: \", as.numeric(opt[3]))"
      ]
    },
    {
      "cell_type": "markdown",
      "metadata": {
        "id": "n2phzIjvxVl4"
      },
      "source": [
        "## SVM Polinomial"
      ]
    },
    {
      "cell_type": "code",
      "execution_count": 42,
      "metadata": {
        "id": "w52GrqelxhG4"
      },
      "outputs": [],
      "source": [
        "%%R\n",
        "# hago proporcion 80/20 entre train y test\n",
        "smp.size <- floor(0.8 * nrow(RRL))\n",
        "train_r <- sample(seq_len(nrow(RRL)), size = smp.size)\n",
        "\n",
        "rrl.train <- RRL[train_r, ]\n",
        "rrl.test <- RRL[-train_r, ]"
      ]
    },
    {
      "cell_type": "code",
      "execution_count": 43,
      "metadata": {
        "colab": {
          "base_uri": "https://localhost:8080/"
        },
        "id": "a3snGpkKxhls",
        "outputId": "2e64dc22-3f47-4c52-c4b2-bd1f08ea14dc"
      },
      "outputs": [
        {
          "name": "stderr",
          "output_type": "stream",
          "text": [
            "WARNING:rpy2.rinterface_lib.callbacks:R[write to console]: \n",
            "WARNING: reaching max number of iterations\n",
            "\n",
            "WARNING:rpy2.rinterface_lib.callbacks:R[write to console]: \n",
            "WARNING: reaching max number of iterations\n",
            "\n"
          ]
        }
      ],
      "source": [
        "%%R\n",
        "rrl.errores.overall <- matrix(, nrow = 0, ncol = 3)\n",
        "colnames(rrl.errores.overall) <- c(\"c\",\"d\",\"Error\")\n",
        "\n",
        "for(c in c(10^(-5),10^(-4),10^(-3),10^(-2),10^(-1),1,10,10^2,10^3,10^4,10^5)){\n",
        "  for(d in 1:5){\n",
        "    rrl.svm.pol <- svm(Tipo~., rrl.train, kernel=\"polynomial\", degree=d, cost=c)\n",
        "    pred<-predict(rrl.svm.pol, newdata = rrl.test)\n",
        "    error<-1-sum(pred==rrl.test[,\"Tipo\"])/dim(rrl.test)[1]\n",
        "    rrl.errores.overall <- rbind(rrl.errores.overall, c(c, d, error))\n",
        "  }\n",
        "}"
      ]
    },
    {
      "cell_type": "code",
      "execution_count": 44,
      "metadata": {
        "colab": {
          "base_uri": "https://localhost:8080/"
        },
        "id": "kK33lz7Jxh5X",
        "outputId": "616a39ea-399d-4339-ba51-98778d656e92"
      },
      "outputs": [
        {
          "name": "stdout",
          "output_type": "stream",
          "text": [
            "Parámetros óptimos: \n",
            " c: 1000  d:  1  Error:  0.08002833"
          ]
        }
      ],
      "source": [
        "%%R\n",
        "df <- as.data.frame(rrl.errores.overall)\n",
        "opt <- df[which.min(df$Error),]\n",
        "cat(\"Parámetros óptimos: \\n c:\", as.numeric(opt[1]), \" d: \", as.numeric(opt[2]), \" Error: \", as.numeric(opt[3]))"
      ]
    },
    {
      "cell_type": "markdown",
      "metadata": {
        "id": "3obQYtmaytCs"
      },
      "source": [
        "## Comparación de resultados"
      ]
    },
    {
      "cell_type": "code",
      "execution_count": 46,
      "metadata": {
        "colab": {
          "base_uri": "https://localhost:8080/",
          "height": 497
        },
        "id": "Znn8gkxryuv_",
        "outputId": "1dd3d0dc-fcb0-445f-8e16-760826c3bf97"
      },
      "outputs": [
        {
          "data": {
            "image/png": "[encoded data removed]"
          },
          "metadata": {},
          "output_type": "display_data"
        }
      ],
      "source": [
        "%%R\n",
        "results <- data.frame(\"Modelo\"=c(\"Boosting\", \"Random forest\", \"SVM Radial\", \"SVM Polinomial\"),\n",
        "                      \"Error\"=c(0.03328612, 0.03886686,  0.0694051, 0.08002833))\n",
        "\n",
        "barplot(height=results$Error, names.arg=results$Modelo, xlab=\"Modelo\", ylab=\"Error\", col = \"#739072\")"
      ]
    },
    {
      "cell_type": "markdown",
      "metadata": {
        "id": "7Jti6qLe0rtN"
      },
      "source": [
        "Conclusiones:\n",
        "- Hay que hacer la salvedad que debido a una limitación de la librería e1071 usada de R (ver https://stackoverflow.com/a/34246580/12309822), hubo varios casos donde el algoritmo alcanzó el límite interno de iteraciones impuesto por esta librería (como se puede ver en el output de la celda), y esto puede haber perjudicado la prueba real. A pesar de esto, se obtuvo un error del 8%, lo cual es bueno.\n",
        "- SVM radial viene atrás con un error del 6%, el cual también es bueno, pero en comparativa a los otros métodos, los métodos de kernel fueron los que peor se comportaron.\n",
        "- Tanto en boosting como en RF tenemos errores alrededor del 3%, lo cual es muy bueno. Hay que tener en cuenta que RF obtuvo algo muy similar y es un algoritmo mucho menos complejo que boosting."
      ]
    }
  ],
  "metadata": {
    "colab": {
      "provenance": []
    },
    "kernelspec": {
      "display_name": "Python 3",
      "name": "python3"
    },
    "language_info": {
      "name": "python"
    }
  },
  "nbformat": 4,
  "nbformat_minor": 0
}
